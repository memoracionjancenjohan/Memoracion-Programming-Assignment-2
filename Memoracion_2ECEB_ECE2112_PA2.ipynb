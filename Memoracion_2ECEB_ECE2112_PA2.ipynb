{
 "cells": [
  {
   "cell_type": "markdown",
   "id": "0d45cdae-d562-40a4-92af-71fc055ec77d",
   "metadata": {},
   "source": [
    "# Memoracion, Jancen Johan\n",
    "# 2ECEB"
   ]
  },
  {
   "cell_type": "markdown",
   "id": "38844965-ff38-4eb7-a36f-047267088ef6",
   "metadata": {},
   "source": [
    "# Programming Assignment 2"
   ]
  },
  {
   "cell_type": "markdown",
   "id": "a0b14177-6588-4520-b025-9312df40cebf",
   "metadata": {},
   "source": [
    "Normalization Problem"
   ]
  },
  {
   "cell_type": "code",
   "execution_count": 1,
   "id": "9402fa04-9871-4d20-b7aa-6427d6e5bf59",
   "metadata": {},
   "outputs": [],
   "source": [
    "#Syntax"
   ]
  },
  {
   "cell_type": "code",
   "execution_count": 2,
   "id": "a8bf2da6-f488-428f-bf1f-3f0f2d2e24ec",
   "metadata": {},
   "outputs": [],
   "source": [
    "import numpy as np"
   ]
  },
  {
   "cell_type": "code",
   "execution_count": 3,
   "id": "6530ff6f-298d-467f-b213-32b43aa59210",
   "metadata": {},
   "outputs": [
    {
     "data": {
      "text/plain": [
       "array([[0.28440832, 0.97103313, 0.88152615, 0.00120423, 0.56070293],\n",
       "       [0.22924413, 0.20624643, 0.14389875, 0.31832558, 0.17880632],\n",
       "       [0.8076704 , 0.70442255, 0.12160946, 0.70545467, 0.30766744],\n",
       "       [0.02527843, 0.81290749, 0.7935672 , 0.0273084 , 0.45913817],\n",
       "       [0.01458069, 0.32569344, 0.01537028, 0.31008654, 0.90621214]])"
      ]
     },
     "execution_count": 3,
     "metadata": {},
     "output_type": "execute_result"
    }
   ],
   "source": [
    "X = np.random.random((5,5))\n",
    "X"
   ]
  },
  {
   "cell_type": "code",
   "execution_count": 4,
   "id": "42682eb8-8c45-4968-9e55-7f4c58398eb1",
   "metadata": {},
   "outputs": [
    {
     "data": {
      "text/plain": [
       "array([[-0.37554149,  1.77171676,  1.49180465, -1.26119595,  0.48850518],\n",
       "       [-0.54805457, -0.6199745 , -0.81495228, -0.26947321, -0.705787  ],\n",
       "       [ 1.26083808,  0.93795461, -0.88465681,  0.94118235, -0.30280404],\n",
       "       [-1.18590952,  1.27721586,  1.21673363, -1.17956127,  0.17088518],\n",
       "       [-1.2193642 , -0.24643194, -1.21689494, -0.29523888,  1.56900429]])"
      ]
     },
     "execution_count": 4,
     "metadata": {},
     "output_type": "execute_result"
    }
   ],
   "source": [
    "Z = (X - X.mean())/X.std()\n",
    "Z"
   ]
  },
  {
   "cell_type": "code",
   "execution_count": 5,
   "id": "083f8a4b-cb39-4794-bb32-d28a9cff9344",
   "metadata": {},
   "outputs": [],
   "source": [
    "np.save(\"X_normalized\", Z)"
   ]
  },
  {
   "cell_type": "code",
   "execution_count": null,
   "id": "dad74b6b-5668-4084-b5b0-1c376a58b921",
   "metadata": {},
   "outputs": [],
   "source": []
  },
  {
   "cell_type": "markdown",
   "id": "db51ce3d-1aac-44cd-b380-68e2b9b7a7e7",
   "metadata": {},
   "source": [
    "Divisible by 3 Problem"
   ]
  },
  {
   "cell_type": "code",
   "execution_count": 6,
   "id": "9ae92354-6afa-4373-9886-be978d22c9b9",
   "metadata": {},
   "outputs": [],
   "source": [
    "#Syntax"
   ]
  },
  {
   "cell_type": "code",
   "execution_count": 7,
   "id": "1085eefd-a32d-49ac-b86b-663b1d420298",
   "metadata": {},
   "outputs": [],
   "source": [
    "import numpy as np"
   ]
  },
  {
   "cell_type": "code",
   "execution_count": 8,
   "id": "9d773f05-a2b5-4345-9366-547ad361a754",
   "metadata": {},
   "outputs": [
    {
     "data": {
      "text/plain": [
       "array([  1,   2,   3,   4,   5,   6,   7,   8,   9,  10,  11,  12,  13,\n",
       "        14,  15,  16,  17,  18,  19,  20,  21,  22,  23,  24,  25,  26,\n",
       "        27,  28,  29,  30,  31,  32,  33,  34,  35,  36,  37,  38,  39,\n",
       "        40,  41,  42,  43,  44,  45,  46,  47,  48,  49,  50,  51,  52,\n",
       "        53,  54,  55,  56,  57,  58,  59,  60,  61,  62,  63,  64,  65,\n",
       "        66,  67,  68,  69,  70,  71,  72,  73,  74,  75,  76,  77,  78,\n",
       "        79,  80,  81,  82,  83,  84,  85,  86,  87,  88,  89,  90,  91,\n",
       "        92,  93,  94,  95,  96,  97,  98,  99, 100])"
      ]
     },
     "execution_count": 8,
     "metadata": {},
     "output_type": "execute_result"
    }
   ],
   "source": [
    "num = np.arange(1,101)\n",
    "num"
   ]
  },
  {
   "cell_type": "code",
   "execution_count": 9,
   "id": "2354c194-3089-4521-8947-c6054a920fee",
   "metadata": {},
   "outputs": [
    {
     "data": {
      "text/plain": [
       "array([    1,     4,     9,    16,    25,    36,    49,    64,    81,\n",
       "         100,   121,   144,   169,   196,   225,   256,   289,   324,\n",
       "         361,   400,   441,   484,   529,   576,   625,   676,   729,\n",
       "         784,   841,   900,   961,  1024,  1089,  1156,  1225,  1296,\n",
       "        1369,  1444,  1521,  1600,  1681,  1764,  1849,  1936,  2025,\n",
       "        2116,  2209,  2304,  2401,  2500,  2601,  2704,  2809,  2916,\n",
       "        3025,  3136,  3249,  3364,  3481,  3600,  3721,  3844,  3969,\n",
       "        4096,  4225,  4356,  4489,  4624,  4761,  4900,  5041,  5184,\n",
       "        5329,  5476,  5625,  5776,  5929,  6084,  6241,  6400,  6561,\n",
       "        6724,  6889,  7056,  7225,  7396,  7569,  7744,  7921,  8100,\n",
       "        8281,  8464,  8649,  8836,  9025,  9216,  9409,  9604,  9801,\n",
       "       10000])"
      ]
     },
     "execution_count": 9,
     "metadata": {},
     "output_type": "execute_result"
    }
   ],
   "source": [
    "squared = num ** 2\n",
    "squared"
   ]
  },
  {
   "cell_type": "code",
   "execution_count": 10,
   "id": "7e596756-6fc4-412f-b4a3-cd65cadd521a",
   "metadata": {},
   "outputs": [
    {
     "data": {
      "text/plain": [
       "array([   9,   36,   81,  144,  225,  324,  441,  576,  729,  900, 1089,\n",
       "       1296, 1521, 1764, 2025, 2304, 2601, 2916, 3249, 3600, 3969, 4356,\n",
       "       4761, 5184, 5625, 6084, 6561, 7056, 7569, 8100, 8649, 9216, 9801])"
      ]
     },
     "execution_count": 10,
     "metadata": {},
     "output_type": "execute_result"
    }
   ],
   "source": [
    "div_3 = squared[squared % 3 == 0]\n",
    "div_3"
   ]
  },
  {
   "cell_type": "code",
   "execution_count": 11,
   "id": "e72a580b-e1b1-43ad-825a-a0158bcc9fb4",
   "metadata": {},
   "outputs": [],
   "source": [
    "np.save(\"div_by_3\", div_3)"
   ]
  }
 ],
 "metadata": {
  "kernelspec": {
   "display_name": "base",
   "language": "python",
   "name": "python3"
  },
  "language_info": {
   "codemirror_mode": {
    "name": "ipython",
    "version": 3
   },
   "file_extension": ".py",
   "mimetype": "text/x-python",
   "name": "python",
   "nbconvert_exporter": "python",
   "pygments_lexer": "ipython3",
   "version": "3.13.5"
  }
 },
 "nbformat": 4,
 "nbformat_minor": 5
}
